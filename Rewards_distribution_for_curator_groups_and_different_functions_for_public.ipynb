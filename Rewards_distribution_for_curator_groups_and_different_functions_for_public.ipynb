{
 "cells": [
  {
   "cell_type": "code",
   "execution_count": 1,
   "metadata": {},
   "outputs": [],
   "source": [
    "from pymongo import MongoClient\n",
    "import numpy as np\n",
    "import pandas as pd\n",
    "from datetime import datetime, timedelta\n",
    "import time\n",
    "import matplotlib.pyplot as plt\n",
    "import matplotlib as mpl\n",
    "import math\n",
    "from tqdm import tqdm\n",
    "%matplotlib inline"
   ]
  },
  {
   "cell_type": "code",
   "execution_count": 2,
   "metadata": {},
   "outputs": [],
   "source": [
    "client = MongoClient(\"localhost:27017\")\n",
    "database = client[\"golos_comments\"]\n",
    "collection_comment = database[\"comment\"]"
   ]
  },
  {
   "cell_type": "markdown",
   "metadata": {},
   "source": [
    "# Constants"
   ]
  },
  {
   "cell_type": "code",
   "execution_count": 3,
   "metadata": {},
   "outputs": [],
   "source": [
    "curators_coefficient = 0.25"
   ]
  },
  {
   "cell_type": "markdown",
   "metadata": {},
   "source": [
    "# Load Data"
   ]
  },
  {
   "cell_type": "markdown",
   "metadata": {},
   "source": [
    "## Load topics from MongoDB"
   ]
  },
  {
   "cell_type": "markdown",
   "metadata": {},
   "source": [
    "#### Find all comments with nonzero votes"
   ]
  },
  {
   "cell_type": "code",
   "execution_count": 4,
   "metadata": {},
   "outputs": [],
   "source": [
    "comment_df = pd.DataFrame(list(collection_comment.find({'net_votes' :{'$gt':0}},\n",
    "                                                       {'_id': 1, \n",
    "                                                        'author': 1, \n",
    "                                                        'last_payout': 1, \n",
    "                                                        'reward_weight' : 1,\n",
    "                                                        'net_rshares' : 1,\n",
    "                                                        'net_votes' : 1,\n",
    "                                                        'total_payout_value' : 1,\n",
    "                                                        'curator_payout_value': 1,\n",
    "                                                        'pending_payout_value': 1,\n",
    "                                                        'max_accepted_payout':1,\n",
    "                                                        'root_comment' : 1,\n",
    "                                                        'depth' : 1,\n",
    "                                                        'active_votes':1,\n",
    "                                                        'created':1})))"
   ]
  },
  {
   "cell_type": "markdown",
   "metadata": {},
   "source": [
    "#### Count \n",
    "    - last payout date, \n",
    "    - difference between creation and payout time"
   ]
  },
  {
   "cell_type": "code",
   "execution_count": 5,
   "metadata": {},
   "outputs": [],
   "source": [
    "comment_df['last_payout'] = comment_df['last_payout'].map(lambda x: x if x==x else datetime(2000,1,1))\n",
    "comment_df['last_payout_date'] = comment_df['last_payout'].map(lambda x: x.date())\n",
    "comment_df.loc[:,'delta_payout_time'] = comment_df.apply(lambda x: x['last_payout'] - x['created'], axis=1)"
   ]
  },
  {
   "cell_type": "markdown",
   "metadata": {},
   "source": [
    "#### Save weights of each vote from the 1st till the 3rd of February"
   ]
  },
  {
   "cell_type": "code",
   "execution_count": 7,
   "metadata": {},
   "outputs": [
    {
     "name": "stderr",
     "output_type": "stream",
     "text": [
      "100%|██████████| 2213/2213 [00:17<00:00, 123.80it/s]\n"
     ]
    }
   ],
   "source": [
    "comment_votes_df = comment_df[(comment_df['created']>datetime(2018,2,1)) & \\\n",
    "                              (comment_df['created']<datetime(2018,2,9,9)) & \\\n",
    "                              (comment_df['curator_payout_value']>0)]\n",
    "new_df_list = []\n",
    "for i in tqdm(comment_votes_df.index):\n",
    "    row = comment_votes_df.loc[i,:]\n",
    "    sum_weight = 0\n",
    "    for item in row['active_votes']:\n",
    "        sum_weight+=item['weight']\n",
    "    if sum_weight>0:\n",
    "        for item in row['active_votes']:\n",
    "            new_df_list.append([row['_id'], row['author'], row['created'], row['last_payout'],  item['voter'], item['weight']/sum_weight])\n",
    "curators_df = pd.DataFrame(data=new_df_list, columns=['_id', 'author', 'created', 'last_payout', 'voter', 'weight'])"
   ]
  },
  {
   "cell_type": "markdown",
   "metadata": {},
   "source": [
    "#### Add info about payouts calculated with alternative functions"
   ]
  },
  {
   "cell_type": "code",
   "execution_count": 8,
   "metadata": {},
   "outputs": [],
   "source": [
    "alternative_comment_df = pd.read_csv(\"comments_with_alternative_rshares.csv\")"
   ]
  },
  {
   "cell_type": "code",
   "execution_count": 9,
   "metadata": {},
   "outputs": [],
   "source": [
    "alternative_comment_df = alternative_comment_df[['author', \n",
    "                                                 'created', \n",
    "                                                 'permlink', \n",
    "                                                 'depth', \n",
    "                                                 'payout_rshares2',\n",
    "                                                 'payout_rshares_linear', \n",
    "                                                 'payout_rshares15', \n",
    "                                                 'payout_rshares2_2',\n",
    "                                                 'payout_rshares_compose']]"
   ]
  },
  {
   "cell_type": "code",
   "execution_count": 10,
   "metadata": {},
   "outputs": [],
   "source": [
    "alternative_comment_df[\"_id\"] = alternative_comment_df[\"author\"] + \"/\" + alternative_comment_df[\"permlink\"]"
   ]
  },
  {
   "cell_type": "markdown",
   "metadata": {},
   "source": [
    "#### Add info about categories of curators"
   ]
  },
  {
   "cell_type": "code",
   "execution_count": 11,
   "metadata": {},
   "outputs": [],
   "source": [
    "authors_df = pd.read_csv(\"all_cat.csv\")"
   ]
  },
  {
   "cell_type": "code",
   "execution_count": 12,
   "metadata": {},
   "outputs": [],
   "source": [
    "independent_authors_df = pd.read_csv('independent_authors.csv')"
   ]
  },
  {
   "cell_type": "markdown",
   "metadata": {},
   "source": [
    "#### Split two DataFrames"
   ]
  },
  {
   "cell_type": "code",
   "execution_count": 13,
   "metadata": {},
   "outputs": [],
   "source": [
    "authors_df = authors_df.append(independent_authors_df['author'].reset_index())\n",
    "authors_df.cat = authors_df.cat.fillna(\"Независимые авторы\")\n",
    "authors_df.total_payout_value = authors_df.total_payout_value.fillna(0)"
   ]
  },
  {
   "cell_type": "markdown",
   "metadata": {},
   "source": [
    "#### Tranform to DataFrame with unique authors"
   ]
  },
  {
   "cell_type": "code",
   "execution_count": 14,
   "metadata": {},
   "outputs": [],
   "source": [
    "authors_df = authors_df.groupby([\"cat\", \"author\"])[\"total_payout_value\"].sum().reset_index()\n",
    "authors_df = authors_df.groupby([\"author\"]).\\\n",
    "                            apply(lambda g: g[g.total_payout_value == g.total_payout_value.max()])\\\n",
    "                                                                        [['cat']].reset_index()[[\"cat\", \"author\"]]\n",
    "authors_df = authors_df.groupby([\"author\"])[\"cat\"].min().reset_index()"
   ]
  },
  {
   "cell_type": "markdown",
   "metadata": {},
   "source": [
    "#### Merge voters and accounts role"
   ]
  },
  {
   "cell_type": "code",
   "execution_count": 15,
   "metadata": {},
   "outputs": [],
   "source": [
    "rewards_with_curators = pd.merge(curators_df, \n",
    "                                 authors_df, \n",
    "                                 left_on=\"voter\", \n",
    "                                 right_on=\"author\", \n",
    "                                 how=\"left\")"
   ]
  },
  {
   "cell_type": "code",
   "execution_count": 16,
   "metadata": {},
   "outputs": [],
   "source": [
    "rewards_with_curators.cat = rewards_with_curators.cat.fillna(\"Прочие пользователи\")"
   ]
  },
  {
   "cell_type": "markdown",
   "metadata": {},
   "source": [
    "#### Merge curation rewards and voter role"
   ]
  },
  {
   "cell_type": "code",
   "execution_count": 17,
   "metadata": {},
   "outputs": [],
   "source": [
    "rewards_with_curators_and_coefficients = pd.merge(rewards_with_curators[[\"_id\", \n",
    "                                                                         \"voter\", \n",
    "                                                                         \"weight\", \n",
    "                                                                         \"cat\"]], \n",
    "                                                  alternative_comment_df[[\"_id\", \n",
    "                                                                          \"payout_rshares2\", \n",
    "                                                                          \"payout_rshares_linear\", \n",
    "                                                                          \"payout_rshares15\", \n",
    "                                                                          \"payout_rshares2_2\", \n",
    "                                                                          \"payout_rshares_compose\"]], \n",
    "                                                  left_on=\"_id\", \n",
    "                                                  right_on=\"_id\", \n",
    "                                                  how=\"inner\")"
   ]
  },
  {
   "cell_type": "code",
   "execution_count": 18,
   "metadata": {},
   "outputs": [],
   "source": [
    "rewards_with_curators_and_coefficients[\"cat\"] = rewards_with_curators_and_coefficients[\"cat\"].fillna(\"Прочие\")"
   ]
  },
  {
   "cell_type": "markdown",
   "metadata": {},
   "source": [
    "#### Count payout for each curator according the weight of his vote"
   ]
  },
  {
   "cell_type": "code",
   "execution_count": 19,
   "metadata": {},
   "outputs": [],
   "source": [
    "for f in ['rshares2', \n",
    "          'rshares_linear', \n",
    "          'rshares15', \n",
    "          'rshares2_2', \n",
    "          \"rshares_compose\"]:\n",
    "    rewards_with_curators_and_coefficients['curator_payout_' + f] = round(rewards_with_curators_and_coefficients['payout_' + f] * curators_coefficient * rewards_with_curators_and_coefficients['weight'],3) "
   ]
  },
  {
   "cell_type": "markdown",
   "metadata": {},
   "source": [
    "#### Find a distribution of rewards calculated with different rshares functions by curator groups"
   ]
  },
  {
   "cell_type": "code",
   "execution_count": 20,
   "metadata": {},
   "outputs": [],
   "source": [
    "rewards_with_curators_and_coefficients.cat = rewards_with_curators_and_coefficients.cat.map(lambda x: 'Авторы '+x if x in ('PSK','Vox Populi', 'Апвот 50-50') else x)"
   ]
  },
  {
   "cell_type": "code",
   "execution_count": 21,
   "metadata": {},
   "outputs": [],
   "source": [
    "stacked_df = rewards_with_curators_and_coefficients.fillna(0).groupby(\"cat\")[['curator_payout_' + x for x in ['rshares2', 'rshares_linear', 'rshares15', 'rshares2_2', \"rshares_compose\"]]].sum()"
   ]
  },
  {
   "cell_type": "code",
   "execution_count": 22,
   "metadata": {},
   "outputs": [
    {
     "data": {
      "image/png": "[encoded data removed]",
      "text/plain": [
       "<matplotlib.figure.Figure at 0x7f5298098f60>"
      ]
     },
     "metadata": {},
     "output_type": "display_data"
    }
   ],
   "source": [
    "mpl.rcParams['figure.figsize'] = (18.0, 9.0)\n",
    "plt.rcParams.update({'font.size': 16})\n",
    "plot = (stacked_df / stacked_df.sum()).T.plot(kind='bar', stacked=True, figsize=(15, 10))\n",
    "plt.title(\"Распределение вознаграждений по группам кураторов при различных функциях\")\n",
    "plt.legend(title=\"Группа\")\n",
    "plot.set_xticklabels([\"Квадратичная\",  \n",
    "                      \"Квадратичная, где s=2e+13\",\n",
    "                      \"Полином степени 1.5\",                       \n",
    "                      \"Линейная\", \n",
    "                      \"Линейно-логарифмическая\"])\n",
    "plt.show()"
   ]
  },
  {
   "cell_type": "code",
   "execution_count": null,
   "metadata": {},
   "outputs": [],
   "source": []
  }
 ],
 "metadata": {
  "kernelspec": {
   "display_name": "Python 3",
   "language": "python",
   "name": "python3"
  },
  "language_info": {
   "codemirror_mode": {
    "name": "ipython",
    "version": 3
   },
   "file_extension": ".py",
   "mimetype": "text/x-python",
   "name": "python",
   "nbconvert_exporter": "python",
   "pygments_lexer": "ipython3",
   "version": "3.5.2"
  }
 },
 "nbformat": 4,
 "nbformat_minor": 1
}
